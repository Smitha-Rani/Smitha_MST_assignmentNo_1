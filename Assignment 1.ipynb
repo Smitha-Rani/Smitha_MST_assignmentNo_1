{
 "cells": [
  {
   "cell_type": "markdown",
   "id": "f50fa208",
   "metadata": {},
   "source": [
    "# Question 1"
   ]
  },
  {
   "cell_type": "code",
   "execution_count": 2,
   "id": "b086d5af",
   "metadata": {},
   "outputs": [
    {
     "name": "stdout",
     "output_type": "stream",
     "text": [
      "Enter the name: Anakha\n",
      "Enter the roll no: 12\n",
      "Enter the mark: 45\n",
      "Name:  Anakha\n",
      "Roll no:  12\n",
      "Mark:  45.0\n"
     ]
    }
   ],
   "source": [
    "name=input(\"Enter the name: \")\n",
    "roll_no=int(input(\"Enter the roll no: \"))\n",
    "mark=float(input(\"Enter the mark: \"))\n",
    "print(\"Name: \",name)\n",
    "print('Roll no: ',roll_no)\n",
    "print('Mark: ',mark)\n"
   ]
  },
  {
   "cell_type": "markdown",
   "id": "904fce19",
   "metadata": {},
   "source": [
    "# Question 2"
   ]
  },
  {
   "cell_type": "code",
   "execution_count": 34,
   "id": "87b46ca9",
   "metadata": {},
   "outputs": [
    {
     "name": "stdout",
     "output_type": "stream",
     "text": [
      "Enter the temperature in celcius12\n",
      "temperature in fahrenheit is: 53.6\n"
     ]
    }
   ],
   "source": [
    "c=float(input('Enter the temperature in celcius'))\n",
    "f=(c*1.8)+32\n",
    "print('temperature in fahrenheit is:',f)"
   ]
  },
  {
   "cell_type": "code",
   "execution_count": 37,
   "id": "b8545d43",
   "metadata": {},
   "outputs": [
    {
     "name": "stdout",
     "output_type": "stream",
     "text": [
      "Enter the temperature in fahrenheit300\n",
      "300.0 temperature in fahrenheit is converted to celcius temperature 148.88888888888889\n"
     ]
    }
   ],
   "source": [
    "f1=float(input('Enter the temperature in fahrenheit'))\n",
    "c1=(f1-32)/1.8\n",
    "print(f1, 'temperature in fahrenheit is converted to celcius temperature',c1)"
   ]
  },
  {
   "cell_type": "markdown",
   "id": "141f5b4f",
   "metadata": {},
   "source": [
    "# Question 3"
   ]
  },
  {
   "cell_type": "code",
   "execution_count": 38,
   "id": "d551deb7",
   "metadata": {},
   "outputs": [
    {
     "name": "stdout",
     "output_type": "stream",
     "text": [
      "Enter a number12\n"
     ]
    }
   ],
   "source": [
    "n1=int(input('Enter a number: '))"
   ]
  },
  {
   "cell_type": "code",
   "execution_count": 39,
   "id": "e4602689",
   "metadata": {},
   "outputs": [
    {
     "name": "stdout",
     "output_type": "stream",
     "text": [
      "Enter one number: 2\n"
     ]
    }
   ],
   "source": [
    "n2=int(input('Enter one number: '))"
   ]
  },
  {
   "cell_type": "code",
   "execution_count": 47,
   "id": "22f98bd7",
   "metadata": {},
   "outputs": [
    {
     "name": "stdout",
     "output_type": "stream",
     "text": [
      "product 24\n"
     ]
    }
   ],
   "source": [
    "n3=n1*n2\n",
    "print('product',n3) "
   ]
  },
  {
   "cell_type": "markdown",
   "id": "cc7866f4",
   "metadata": {},
   "source": [
    "# Question 4"
   ]
  },
  {
   "cell_type": "code",
   "execution_count": null,
   "id": "6cdf8c73",
   "metadata": {},
   "outputs": [],
   "source": [
    "a=input(\"Enter the statement\")\n"
   ]
  },
  {
   "cell_type": "markdown",
   "id": "7f45e2a3",
   "metadata": {},
   "source": [
    "# Question 5"
   ]
  },
  {
   "cell_type": "code",
   "execution_count": 1,
   "id": "2013a373",
   "metadata": {},
   "outputs": [
    {
     "name": "stdout",
     "output_type": "stream",
     "text": [
      "Enter the radius of circle in cm2\n",
      "area of the circle is  12.56 cm\n"
     ]
    }
   ],
   "source": [
    "radius=int(input('Enter the radius of circle in cm'))\n",
    "area=3.14*radius*radius\n",
    "print('area of the circle is ',area,'cm')"
   ]
  },
  {
   "cell_type": "markdown",
   "id": "1bd3875a",
   "metadata": {},
   "source": [
    "# Question 6"
   ]
  },
  {
   "cell_type": "code",
   "execution_count": 2,
   "id": "e58aad81",
   "metadata": {},
   "outputs": [
    {
     "name": "stdout",
     "output_type": "stream",
     "text": [
      "enter the element to be inserted in the list9\n",
      "enter the position1\n"
     ]
    }
   ],
   "source": [
    "list2=list((1,2,2,'cat','horse',True))\n",
    "n=int(input('enter the element to be inserted in the list '))\n",
    "k=int(input('enter the position '))\n",
    "list2.insert(k,n)"
   ]
  },
  {
   "cell_type": "code",
   "execution_count": 3,
   "id": "9db986f9",
   "metadata": {},
   "outputs": [
    {
     "data": {
      "text/plain": [
       "[1, 9, 2, 2, 'cat', 'horse', True]"
      ]
     },
     "execution_count": 3,
     "metadata": {},
     "output_type": "execute_result"
    }
   ],
   "source": [
    "list2"
   ]
  },
  {
   "cell_type": "markdown",
   "id": "e017865e",
   "metadata": {},
   "source": [
    "# Question7"
   ]
  },
  {
   "cell_type": "code",
   "execution_count": 4,
   "id": "3e356fbc",
   "metadata": {},
   "outputs": [
    {
     "name": "stdout",
     "output_type": "stream",
     "text": [
      "Enter new city:san jose\n",
      "{'name': 'John', 'age': 5, 'salary': 8000, 'city': 'san jose'}\n"
     ]
    }
   ],
   "source": [
    "sample_dict={\"name\":\"John\",\"age\":5,\"salary\":8000,\"city\":\"newYork\"}\n",
    "print(sample_dict)\n",
    "n=input(\"Enter new city:\")\n",
    "sample_dict[\"city\"]=n\n",
    "print(sample_dict)"
   ]
  },
  {
   "cell_type": "markdown",
   "id": "660f40db",
   "metadata": {},
   "source": [
    "# Question8\n"
   ]
  },
  {
   "cell_type": "code",
   "execution_count": null,
   "id": "ab978aeb",
   "metadata": {},
   "outputs": [],
   "source": []
  },
  {
   "cell_type": "markdown",
   "id": "f5e74d53",
   "metadata": {},
   "source": [
    "# Question 9"
   ]
  },
  {
   "cell_type": "code",
   "execution_count": 28,
   "id": "c007d32d",
   "metadata": {},
   "outputs": [],
   "source": [
    "tuple1=(10,20,43,54,56,68)"
   ]
  },
  {
   "cell_type": "code",
   "execution_count": 32,
   "id": "152b71fe",
   "metadata": {},
   "outputs": [
    {
     "data": {
      "text/plain": [
       "(43, 54)"
      ]
     },
     "execution_count": 32,
     "metadata": {},
     "output_type": "execute_result"
    }
   ],
   "source": [
    "tuple2=tuple1[2],tuple1[3]\n",
    "tuple2\n",
    "\n"
   ]
  },
  {
   "cell_type": "markdown",
   "id": "3302c986",
   "metadata": {},
   "source": [
    "# Question 10"
   ]
  },
  {
   "cell_type": "code",
   "execution_count": 3,
   "id": "3b621ce0",
   "metadata": {},
   "outputs": [],
   "source": [
    "tuple1=(50,10,60,70,83,567,50,81)"
   ]
  },
  {
   "cell_type": "code",
   "execution_count": 4,
   "id": "8b80a01a",
   "metadata": {},
   "outputs": [
    {
     "data": {
      "text/plain": [
       "tuple"
      ]
     },
     "execution_count": 4,
     "metadata": {},
     "output_type": "execute_result"
    }
   ],
   "source": [
    "type(tuple1)"
   ]
  },
  {
   "cell_type": "code",
   "execution_count": 6,
   "id": "402f45a7",
   "metadata": {},
   "outputs": [],
   "source": [
    "n=tuple1.count(50)"
   ]
  },
  {
   "cell_type": "code",
   "execution_count": 8,
   "id": "492efedb",
   "metadata": {},
   "outputs": [
    {
     "name": "stdout",
     "output_type": "stream",
     "text": [
      "The count of 50 in the tuple is 2\n"
     ]
    }
   ],
   "source": [
    "print(\"The count of 50 in the tuple is\", n)"
   ]
  },
  {
   "cell_type": "code",
   "execution_count": null,
   "id": "8488a6bf",
   "metadata": {},
   "outputs": [],
   "source": []
  }
 ],
 "metadata": {
  "kernelspec": {
   "display_name": "Python 3 (ipykernel)",
   "language": "python",
   "name": "python3"
  },
  "language_info": {
   "codemirror_mode": {
    "name": "ipython",
    "version": 3
   },
   "file_extension": ".py",
   "mimetype": "text/x-python",
   "name": "python",
   "nbconvert_exporter": "python",
   "pygments_lexer": "ipython3",
   "version": "3.9.12"
  }
 },
 "nbformat": 4,
 "nbformat_minor": 5
}
