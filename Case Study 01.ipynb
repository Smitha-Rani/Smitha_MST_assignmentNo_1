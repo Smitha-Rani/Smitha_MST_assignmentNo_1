{
 "cells": [
  {
   "cell_type": "markdown",
   "id": "324202e5",
   "metadata": {},
   "source": [
    "# Question 1\n"
   ]
  },
  {
   "cell_type": "code",
   "execution_count": 1,
   "id": "2a9005f1",
   "metadata": {},
   "outputs": [
    {
     "name": "stdout",
     "output_type": "stream",
     "text": [
      "Enter the name of the student Soumi\n",
      "Enter your mark 49\n",
      "your grade is D\n"
     ]
    }
   ],
   "source": [
    "name=input(\"Enter the name of the student \")\n",
    "mark=int(input(\"Enter your mark \"))\n",
    "if mark>=80:\n",
    "    grade='A'\n",
    "elif mark>=60:\n",
    "    grade='B'\n",
    "elif mark>=50:\n",
    "    grade='C'\n",
    "elif mark>=45:\n",
    "    grade='D'\n",
    "elif mark>=25:\n",
    "    grade='E'\n",
    "else:\n",
    "    grade='F'\n",
    "print('your grade is',grade)\n",
    "\n"
   ]
  },
  {
   "cell_type": "markdown",
   "id": "c50e1ef0",
   "metadata": {},
   "source": [
    "# Question 2"
   ]
  },
  {
   "cell_type": "code",
   "execution_count": 41,
   "id": "6c593d50",
   "metadata": {},
   "outputs": [],
   "source": [
    "list1=list(('john','peter','meera','mini','krishna'))\n",
    "list2=list(('john','peter','meera','mini','krishna'))\n",
    "index=-1"
   ]
  },
  {
   "cell_type": "code",
   "execution_count": 47,
   "id": "c34b98f9",
   "metadata": {},
   "outputs": [
    {
     "name": "stdout",
     "output_type": "stream",
     "text": [
      "['john', 'peter', 'meera', 'mini', 'krishna']\n"
     ]
    }
   ],
   "source": [
    "for i in list1:\n",
    "    for k in i:\n",
    "        if i.count(k)==1:\n",
    "            break\n",
    "        else:\n",
    "            index+=1\n",
    "            list2.pop()\n",
    "if index==1:\n",
    "    print('repeating')\n",
    "else:\n",
    "    print(list2)\n",
    "            "
   ]
  },
  {
   "cell_type": "markdown",
   "id": "ed27a8a8",
   "metadata": {},
   "source": [
    "# Question3"
   ]
  },
  {
   "cell_type": "code",
   "execution_count": 49,
   "id": "e3ea631c",
   "metadata": {},
   "outputs": [
    {
     "name": "stdout",
     "output_type": "stream",
     "text": [
      "enter the length 1\n",
      "enter the breadth 2\n",
      "it is a rectangle\n"
     ]
    }
   ],
   "source": [
    "l=int(input(\"enter the length \"))\n",
    "b=int(input(\"enter the breadth \"))\n",
    "if l==b:\n",
    "    print(\"it is a square \")\n",
    "else:\n",
    "    print(\"it is a rectangle\")\n",
    "    \n"
   ]
  },
  {
   "cell_type": "markdown",
   "id": "b2edd24e",
   "metadata": {},
   "source": [
    "# Question4"
   ]
  },
  {
   "cell_type": "code",
   "execution_count": 63,
   "id": "9482771a",
   "metadata": {},
   "outputs": [
    {
     "name": "stdout",
     "output_type": "stream",
     "text": [
      "enter the total no of classes 20\n",
      "enter the no of classes attended 12\n",
      "Your attendance percentage is  60.0 %\n",
      "Not allowed to sit for exam\n"
     ]
    }
   ],
   "source": [
    "no_of_class=int(input(\"enter the total no of classes \"))\n",
    "no_of_atte=int(input(\"enter the no of classes attended \"))\n",
    "percent_atte= no_of_atte/no_of_class*100\n",
    "print(\"Your attendance percentage is \",percent_atte,\"%\")\n",
    "if percent_atte<75:\n",
    "    print(\"Not allowed to sit for exam\")\n",
    "else:\n",
    "    print(\"Allowed to sit for exam\")\n",
    "        "
   ]
  },
  {
   "cell_type": "markdown",
   "id": "11012aad",
   "metadata": {},
   "source": [
    "# Question 5"
   ]
  },
  {
   "cell_type": "code",
   "execution_count": 3,
   "id": "1f934bc6",
   "metadata": {},
   "outputs": [
    {
     "name": "stdout",
     "output_type": "stream",
     "text": [
      "enter the length of the list 5\n",
      "enter the numbers in the list 1\n",
      "enter the numbers in the list 2\n",
      "enter the numbers in the list 3\n",
      "enter the numbers in the list 4\n",
      "enter the numbers in the list 5\n",
      "[1, 2, 3, 4, 5]\n",
      "sum 31\n",
      "even list:  [2, 4]\n",
      "odd list:  [1, 3, 5]\n"
     ]
    }
   ],
   "source": [
    "l=int(input(\"enter the length of the list \"))\n",
    "list1=[]\n",
    "num=0\n",
    "while l>0:\n",
    "    ele=int(input(\"enter the numbers in the list \"))\n",
    "    list1.append(ele)\n",
    "    l=l-1\n",
    "print(list1)\n",
    "for k in range(len(list1)):\n",
    "    s=s+list1[k]\n",
    "print(\"sum\",s)\n",
    "#creating even list\n",
    "even_list=[]\n",
    "odd_list=[]\n",
    "for num in list1:\n",
    "    if num%2!=0:\n",
    "        odd_list.append(num)\n",
    "    else:\n",
    "        even_list.append(num)\n",
    "print(\"even list: \",even_list)\n",
    "print(\"odd list: \",odd_list)\n",
    "\n"
   ]
  },
  {
   "cell_type": "markdown",
   "id": "0c79a5aa",
   "metadata": {},
   "source": [
    "# Question 6"
   ]
  },
  {
   "cell_type": "code",
   "execution_count": null,
   "id": "caf59932",
   "metadata": {},
   "outputs": [],
   "source": [
    "#chatbot for e commerce website\n",
    "\n"
   ]
  },
  {
   "cell_type": "markdown",
   "id": "cb5c36a1",
   "metadata": {},
   "source": [
    "# Question 7"
   ]
  },
  {
   "cell_type": "code",
   "execution_count": 6,
   "id": "b5268e46",
   "metadata": {},
   "outputs": [
    {
     "name": "stdout",
     "output_type": "stream",
     "text": [
      "enter the value of a: 2\n",
      "enter the value of b: -5\n",
      "enter the value of c: 3\n",
      "roots are real and distinct\n",
      "1.5\n",
      "1.0\n"
     ]
    }
   ],
   "source": [
    "import math\n",
    "def quad_equation_roots(a,b,c):\n",
    "    discri=b*b-4*a*c\n",
    "    sqrt_val=math.sqrt(abs(discri))\n",
    "    if discri>0:\n",
    "        print(\"roots are real and distinct\")\n",
    "        print((-b+sqrt_val)/(2*a))\n",
    "        print((-b-sqrt_val)/(2*a))\n",
    "\n",
    "    elif discri==0:\n",
    "        print(\"roots are real and same\")\n",
    "        print(-b/(2*a))\n",
    "        \n",
    "a=int(input(\"enter the value of a: \"))\n",
    "b=int(input(\"enter the value of b: \"))\n",
    "c=int(input(\"enter the value of c: \"))\n",
    "quad_equation_roots(a,b,c)\n"
   ]
  },
  {
   "cell_type": "markdown",
   "id": "b1a86832",
   "metadata": {},
   "source": [
    "# Question 8"
   ]
  },
  {
   "cell_type": "code",
   "execution_count": 8,
   "id": "2389d33f",
   "metadata": {},
   "outputs": [
    {
     "name": "stdout",
     "output_type": "stream",
     "text": [
      "Current number 0 Previous Number 0 sum is 0\n",
      "Current number 1 Previous Number 0 sum is 1\n",
      "Current number 2 Previous Number 1 sum is 3\n",
      "Current number 3 Previous Number 2 sum is 5\n",
      "Current number 4 Previous Number 3 sum is 7\n",
      "Current number 5 Previous Number 4 sum is 9\n",
      "Current number 6 Previous Number 5 sum is 11\n",
      "Current number 7 Previous Number 6 sum is 13\n",
      "Current number 8 Previous Number 7 sum is 15\n",
      "Current number 9 Previous Number 8 sum is 17\n"
     ]
    }
   ],
   "source": [
    "previous_num = 0\n",
    "for i in range(10):\n",
    "    sum = previous_num + i\n",
    "    print(f'Current number {i} Previous Number {previous_num} sum is {sum}')\n",
    "    previous_num = i"
   ]
  },
  {
   "cell_type": "markdown",
   "id": "0115e5e2",
   "metadata": {},
   "source": [
    "# question 9"
   ]
  },
  {
   "cell_type": "code",
   "execution_count": 10,
   "id": "342a2c9d",
   "metadata": {},
   "outputs": [
    {
     "name": "stdout",
     "output_type": "stream",
     "text": [
      "enter the lower range 33\n",
      "enter the upper range 55\n",
      "Prime numbers between 33 and 55 are:\n",
      "37\n",
      "41\n",
      "43\n",
      "47\n",
      "53\n"
     ]
    }
   ],
   "source": [
    "lower=int(input(\"enter the lower range \"))\n",
    "upper=int(input(\"enter the upper range \"))\n",
    "print(\"Prime numbers between\", lower, \"and\", upper, \"are:\")\n",
    "\n",
    "for num in range(lower, upper + 1):\n",
    "    if num > 1:\n",
    "        for i in range(2, num):\n",
    "            if (num % i) == 0:\n",
    "                break\n",
    "        else:\n",
    "            print(num)"
   ]
  },
  {
   "cell_type": "markdown",
   "id": "fc92d817",
   "metadata": {},
   "source": [
    "# Question 10"
   ]
  },
  {
   "cell_type": "code",
   "execution_count": 12,
   "id": "dec3bbb8",
   "metadata": {},
   "outputs": [
    {
     "name": "stdout",
     "output_type": "stream",
     "text": [
      "How many terms? 5\n",
      "Fibonacci sequence:\n",
      "0\n",
      "1\n",
      "1\n",
      "2\n",
      "3\n"
     ]
    }
   ],
   "source": [
    "nterms = int(input(\"How many terms? \"))\n",
    "\n",
    "# first two terms\n",
    "n1, n2 = 0, 1\n",
    "count = 0\n",
    "\n",
    "# check if the number of terms is valid\n",
    "if nterms <= 0:\n",
    "    print(\"Please enter a positive integer\")\n",
    "# if there is only one term, return n1\n",
    "elif nterms == 1:\n",
    "    print(\"Fibonacci sequence upto\",nterms,\":\")\n",
    "    print(n1)\n",
    "# generate fibonacci sequence\n",
    "else:\n",
    "    print(\"Fibonacci sequence:\")\n",
    "    while count < nterms:\n",
    "        print(n1)\n",
    "        nth = n1 + n2\n",
    "       # update values\n",
    "        n1 = n2\n",
    "        n2 = nth\n",
    "        count += 1"
   ]
  },
  {
   "cell_type": "code",
   "execution_count": null,
   "id": "852e820f",
   "metadata": {},
   "outputs": [],
   "source": []
  }
 ],
 "metadata": {
  "kernelspec": {
   "display_name": "Python 3 (ipykernel)",
   "language": "python",
   "name": "python3"
  },
  "language_info": {
   "codemirror_mode": {
    "name": "ipython",
    "version": 3
   },
   "file_extension": ".py",
   "mimetype": "text/x-python",
   "name": "python",
   "nbconvert_exporter": "python",
   "pygments_lexer": "ipython3",
   "version": "3.9.12"
  }
 },
 "nbformat": 4,
 "nbformat_minor": 5
}
