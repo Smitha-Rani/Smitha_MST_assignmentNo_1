{
 "cells": [
  {
   "cell_type": "markdown",
   "id": "e48fd15f",
   "metadata": {},
   "source": [
    "# Question 1"
   ]
  },
  {
   "cell_type": "code",
   "execution_count": 3,
   "id": "1742d58c",
   "metadata": {},
   "outputs": [
    {
     "name": "stdout",
     "output_type": "stream",
     "text": [
      "Enter elements of a list separated by space 1 2 3 4 5\n",
      "\n",
      "\n",
      "list:  ['1', '2', '3', '4', '5']\n",
      "Sum =  15\n"
     ]
    }
   ],
   "source": [
    "input_string = input('Enter elements of a list separated by space ')\n",
    "print(\"\\n\")\n",
    "user_list = input_string.split()\n",
    "# print list\n",
    "print('list: ', user_list)\n",
    "\n",
    "# convert each item to int type\n",
    "for i in range(len(user_list)):\n",
    "    # convert each item to int type\n",
    "    user_list[i] = int(user_list[i])\n",
    "\n",
    "# Calculating the sum of list elements\n",
    "print(\"Sum = \", sum(user_list))\n"
   ]
  },
  {
   "cell_type": "markdown",
   "id": "c8ee7c85",
   "metadata": {},
   "source": [
    "# Question2 "
   ]
  },
  {
   "cell_type": "code",
   "execution_count": 2,
   "id": "413c99b9",
   "metadata": {},
   "outputs": [
    {
     "name": "stdout",
     "output_type": "stream",
     "text": [
      "enter the string to be checked: malayalam\n",
      "palindrome\n"
     ]
    }
   ],
   "source": [
    "a=input('enter the string to be checked: ')\n",
    "rev=''.join(reversed(a))\n",
    "if(a==rev):\n",
    "    print('it is palindrome')\n",
    "else:\n",
    "    print('Not palindrome')"
   ]
  },
  {
   "cell_type": "markdown",
   "id": "ad01e01d",
   "metadata": {},
   "source": [
    "# Question 3"
   ]
  },
  {
   "cell_type": "code",
   "execution_count": 13,
   "id": "0248caaa",
   "metadata": {},
   "outputs": [
    {
     "name": "stdout",
     "output_type": "stream",
     "text": [
      "enter  the number of terms/limit 10\n",
      "Fibonacci sequence:\n",
      "0\n",
      "1\n",
      "1\n",
      "2\n",
      "3\n",
      "5\n",
      "8\n",
      "13\n",
      "21\n",
      "34\n"
     ]
    }
   ],
   "source": [
    "# Python program to display the Fibonacci sequence\n",
    "\n",
    "def recur_fibo(n):\n",
    "    if n <= 1:\n",
    "        return n\n",
    "    else:\n",
    "        return(recur_fibo(n-1) + recur_fibo(n-2))\n",
    "\n",
    "nterms=int(input('enter  the number of terms/limit '))\n",
    "\n",
    "# check if the number of terms is valid\n",
    "if nterms<0:\n",
    "    print(\"Please enter a positive integer\")\n",
    "else:\n",
    "    print(\"Fibonacci sequence:\")\n",
    "    for i in range(nterms):\n",
    "        print(recur_fibo(i))"
   ]
  },
  {
   "cell_type": "markdown",
   "id": "2822f3fc",
   "metadata": {},
   "source": [
    "# Question 4"
   ]
  },
  {
   "cell_type": "code",
   "execution_count": 16,
   "id": "80e42fd6",
   "metadata": {},
   "outputs": [
    {
     "name": "stdout",
     "output_type": "stream",
     "text": [
      "ENTER THE NUMBER FOR WHICH THE MULTIPLICATION TABLE IS PRINTED :4\n",
      "4 * 1 = 4\n",
      "4 * 2 = 8\n",
      "4 * 3 = 12\n",
      "4 * 4 = 16\n",
      "4 * 5 = 20\n",
      "4 * 6 = 24\n",
      "4 * 7 = 28\n",
      "4 * 8 = 32\n",
      "4 * 9 = 36\n",
      "4 * 10 = 40\n"
     ]
    }
   ],
   "source": [
    "def mul_table(N, i):\n",
    "    if (i > 10):\n",
    "        return\n",
    "    print(N,\"*\",i,\"=\",N * i)\n",
    "    return mul_table(N, i + 1)\n",
    " \n",
    "\n",
    "N =int(input('ENTER THE NUMBER FOR WHICH THE MULTIPLICATION TABLE IS PRINTED :'))\n",
    "mul_table(N, 1)"
   ]
  },
  {
   "cell_type": "markdown",
   "id": "0d28b962",
   "metadata": {},
   "source": [
    "# Question 5"
   ]
  },
  {
   "cell_type": "code",
   "execution_count": 17,
   "id": "ffb0672d",
   "metadata": {},
   "outputs": [
    {
     "name": "stdout",
     "output_type": "stream",
     "text": [
      "Please enter a string as you wish: smitha\n",
      "The number of vowels: 2\n",
      "\n",
      "The number of consonant: 4\n"
     ]
    }
   ],
   "source": [
    "str=input(\"Please enter a string as you wish: \");\n",
    "vowels=0\n",
    "consonants=0\n",
    "str.lower()                    #call the lower function to avoid upper case letter\n",
    "for i in str:\n",
    "    if(i == 'a'or i == 'e'or i == 'i'or i == 'o'or i == 'u' ):\n",
    "           vowels=vowels+1;\n",
    "    else:\n",
    "        consonants=consonants+1;\n",
    "print(\"The number of vowels:\",vowels);\n",
    "print(\"\\nThe number of consonant:\",consonants);"
   ]
  },
  {
   "cell_type": "markdown",
   "id": "1e86297e",
   "metadata": {},
   "source": [
    "# Question6"
   ]
  },
  {
   "cell_type": "code",
   "execution_count": 20,
   "id": "0ca03cc7",
   "metadata": {},
   "outputs": [
    {
     "name": "stdout",
     "output_type": "stream",
     "text": [
      "enter any string in lower case: smihtAAA\n",
      "String after case conversion : SMIHTAAA\n"
     ]
    }
   ],
   "source": [
    "str1=input('enter any string in lower case: ') \n",
    "newStr = \"\";  \n",
    "   \n",
    "for i in range(0, len(str1)):  \n",
    "    #Checks for lower case character  \n",
    "    if str1[i].islower():  \n",
    "        #Convert it into upper case using upper () function  \n",
    "        newStr += str1[i].upper();  \n",
    "    else:  \n",
    "        newStr += str1[i];          \n",
    "print(\"String after case conversion : \" +  newStr);  "
   ]
  },
  {
   "cell_type": "markdown",
   "id": "010e138f",
   "metadata": {},
   "source": [
    "# Question7"
   ]
  },
  {
   "cell_type": "code",
   "execution_count": 22,
   "id": "ed2ebbce",
   "metadata": {},
   "outputs": [
    {
     "name": "stdout",
     "output_type": "stream",
     "text": [
      "Original list:\n",
      "[10, 1, 33, None, -46, 34, 9, None, 0, 6, -12]\n",
      "\n",
      "Remove None value from the said list:\n",
      "[10, 1, 33, -46, 34, 9, 0, 6, -12]\n"
     ]
    }
   ],
   "source": [
    "def remove_none(nums):\n",
    "    result = filter(lambda v: v is not None, nums)\n",
    "    return list(result)\n",
    "\n",
    "nums = [10,1,33, None, -46, 34, 9, None, 0, 6, -12]\n",
    "print(\"Original list:\")\n",
    "print(nums)\n",
    "print(\"\\nRemove None value from the said list:\")\n",
    "print(remove_none(nums))"
   ]
  },
  {
   "cell_type": "markdown",
   "id": "e8b1bab9",
   "metadata": {},
   "source": [
    "# Question 8\n"
   ]
  },
  {
   "cell_type": "code",
   "execution_count": 40,
   "id": "a1716898",
   "metadata": {},
   "outputs": [
    {
     "name": "stdout",
     "output_type": "stream",
     "text": [
      "50\n",
      "30\n",
      "length 5\n",
      "breadth 10\n",
      "None\n"
     ]
    },
    {
     "ename": "AttributeError",
     "evalue": "'parallelpiped' object has no attribute 'l'",
     "output_type": "error",
     "traceback": [
      "\u001b[0;31m---------------------------------------------------------------------------\u001b[0m",
      "\u001b[0;31mAttributeError\u001b[0m                            Traceback (most recent call last)",
      "Input \u001b[0;32mIn [40]\u001b[0m, in \u001b[0;36m<cell line: 41>\u001b[0;34m()\u001b[0m\n\u001b[1;32m     39\u001b[0m \u001b[38;5;28mprint\u001b[39m(r1\u001b[38;5;241m.\u001b[39mperimeter())\n\u001b[1;32m     40\u001b[0m \u001b[38;5;28mprint\u001b[39m(r1\u001b[38;5;241m.\u001b[39mdisplay())\n\u001b[0;32m---> 41\u001b[0m \u001b[38;5;28mprint\u001b[39m(\u001b[43mr2\u001b[49m\u001b[38;5;241;43m.\u001b[39;49m\u001b[43mvolume\u001b[49m\u001b[43m(\u001b[49m\u001b[43m)\u001b[49m)\n",
      "Input \u001b[0;32mIn [40]\u001b[0m, in \u001b[0;36mparallelpiped.volume\u001b[0;34m(self)\u001b[0m\n\u001b[1;32m     32\u001b[0m \u001b[38;5;28;01mdef\u001b[39;00m \u001b[38;5;21mvolume\u001b[39m(\u001b[38;5;28mself\u001b[39m):\n\u001b[0;32m---> 33\u001b[0m     \u001b[38;5;28;01mreturn\u001b[39;00m(\u001b[38;5;28;43mself\u001b[39;49m\u001b[38;5;241;43m.\u001b[39;49m\u001b[43ml\u001b[49m\u001b[38;5;241m*\u001b[39m\u001b[38;5;28mself\u001b[39m\u001b[38;5;241m.\u001b[39mb\u001b[38;5;241m*\u001b[39m\u001b[38;5;28mself\u001b[39m\u001b[38;5;241m.\u001b[39mh)\n",
      "\u001b[0;31mAttributeError\u001b[0m: 'parallelpiped' object has no attribute 'l'"
     ]
    }
   ],
   "source": [
    "class Rectangle:   #parent class\n",
    "    def __init__(self):\n",
    "        pass\n",
    "    def area(self):\n",
    "        pass\n",
    "    def perimeter(self):\n",
    "        pass\n",
    "    \n",
    "class rec(Rectangle):    #child class\n",
    "    def __init__(self,l,b):\n",
    "        self.l=l\n",
    "        self.b=b\n",
    "        \n",
    "    def area(self):          #class definition\n",
    "        return(self.l*self.b)\n",
    "    \n",
    "    def perimeter(self):\n",
    "        return(2*(self.l+self.b))\n",
    "    \n",
    "    def display(self):\n",
    "        print('length',self.l)\n",
    "        print('breadth',self.b)\n",
    "        #print('area of rectangle is ',area\n",
    "        #print('perimenter of rectangle is ',perimeter())\n",
    "        \n",
    "              \n",
    "\n",
    "class parallelpiped(Rectangle):      #child class\n",
    "    def __init__(self,h):\n",
    "        self.h=h\n",
    "        \n",
    "    def volume(self):\n",
    "        return(self.l*self.b*self.h)\n",
    "    \n",
    "    \n",
    "r1=rec(5,10)\n",
    "r2=parallelpiped(5)                 \n",
    "print(r1.area())            #two different meaning for same function in different classes\n",
    "print(r1.perimeter())\n",
    "print(r1.display())\n",
    "print(r2.volume())"
   ]
  },
  {
   "cell_type": "markdown",
   "id": "4a36495e",
   "metadata": {},
   "source": [
    "# Question 9\n"
   ]
  },
  {
   "cell_type": "code",
   "execution_count": 42,
   "id": "603fcf2f",
   "metadata": {},
   "outputs": [
    {
     "name": "stdout",
     "output_type": "stream",
     "text": [
      "Account Number :  90864584\n",
      "Account Name :  smitha\n",
      "Account Balance :  7800  Rupees\n"
     ]
    }
   ],
   "source": [
    "class BankAccount:\n",
    "    # create the constuctor with parameters: accountNumber, name and balance \n",
    "    def __init__(self,accountNumber, name, balance):\n",
    "        self.accountNumber = accountNumber\n",
    "        self.name = name\n",
    "        self.balance = balance\n",
    "        \n",
    "    # create Deposit() method\n",
    "    def Deposit(self , d ):\n",
    "        self.balance = self.balance + d\n",
    "    \n",
    "    # create Withdrawal method\n",
    "    def Withdrawal(self , w):\n",
    "        if(self.balance < w):\n",
    "            print(\"not possible, Insufficient balance !\")\n",
    "        else:\n",
    "            self.balance = self.balance - w\n",
    "    # create bankFees() method\n",
    "    def bankFees(self):\n",
    "        self.balance = (5/100)*self.balance\n",
    "        \n",
    "    # create display() method\n",
    "    def display(self):\n",
    "        print(\"Account Number : \" , self.accountNumber)\n",
    "        print(\"Account Name : \" , self.name)\n",
    "        print(\"Account Balance : \" , self.balance , \" Rupees\")\n",
    "        \n",
    "\n",
    "newAccount = BankAccount(90864584, \"smitha\" , 7700)\n",
    "newAccount.Withdrawal(900)\n",
    "newAccount.Deposit(1000)\n",
    "newAccount.display()"
   ]
  },
  {
   "cell_type": "markdown",
   "id": "97b1ed6e",
   "metadata": {},
   "source": [
    "# Question 10"
   ]
  },
  {
   "cell_type": "code",
   "execution_count": 46,
   "id": "89d2e426",
   "metadata": {},
   "outputs": [
    {
     "ename": "ModuleNotFoundError",
     "evalue": "No module named 'Rectangle'",
     "output_type": "error",
     "traceback": [
      "\u001b[0;31m---------------------------------------------------------------------------\u001b[0m",
      "\u001b[0;31mModuleNotFoundError\u001b[0m                       Traceback (most recent call last)",
      "Input \u001b[0;32mIn [46]\u001b[0m, in \u001b[0;36m<cell line: 1>\u001b[0;34m()\u001b[0m\n\u001b[0;32m----> 1\u001b[0m \u001b[38;5;28;01mimport\u001b[39;00m \u001b[38;5;21;01mRectangle\u001b[39;00m \u001b[38;5;28;01mas\u001b[39;00m \u001b[38;5;21;01mr\u001b[39;00m\n\u001b[1;32m      3\u001b[0m \u001b[38;5;28;01mclass\u001b[39;00m \u001b[38;5;21;01mParallelepipede\u001b[39;00m(Rectangle):\n\u001b[1;32m      4\u001b[0m     \u001b[38;5;28;01mdef\u001b[39;00m \u001b[38;5;21m__init__\u001b[39m(\u001b[38;5;28mself\u001b[39m, length, width , height):\n",
      "\u001b[0;31mModuleNotFoundError\u001b[0m: No module named 'Rectangle'"
     ]
    }
   ],
   "source": [
    "import Rectangle as r\n",
    "\n",
    "class Parallelepipede(Rectangle):\n",
    "    def __init__(self, length, width , height):\n",
    "        Rectangle.__init__(self, length, width)\n",
    "        self.height = height\n",
    "        \n",
    "    # define Volume method\n",
    "    def volume(self):\n",
    "        return self.length*self.width*self.height\n",
    "        \n",
    "myRectangle = Rectangle(7 , 5)\n",
    "myRectangle.display()\n",
    "print(\"----------------------------------\")\n",
    "myParallelepipede = Parallelepipede(7 , 5 , 2)\n",
    "print(\"the volume of myParallelepipede is: \" , myParallelepipede.volume())"
   ]
  },
  {
   "cell_type": "code",
   "execution_count": null,
   "id": "573d6638",
   "metadata": {},
   "outputs": [],
   "source": []
  }
 ],
 "metadata": {
  "kernelspec": {
   "display_name": "Python 3 (ipykernel)",
   "language": "python",
   "name": "python3"
  },
  "language_info": {
   "codemirror_mode": {
    "name": "ipython",
    "version": 3
   },
   "file_extension": ".py",
   "mimetype": "text/x-python",
   "name": "python",
   "nbconvert_exporter": "python",
   "pygments_lexer": "ipython3",
   "version": "3.9.12"
  }
 },
 "nbformat": 4,
 "nbformat_minor": 5
}
